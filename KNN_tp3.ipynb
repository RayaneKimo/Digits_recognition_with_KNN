{
 "cells": [
  {
   "cell_type": "markdown",
   "source": [
    "----\n",
    "Objectif :\n",
    "+ La création d’un modèle KNN pour un problème de classification multi-class.\n",
    "+ La sélection des bons hyperparamètres (le k et la distance)\n",
    "+ l’évaluation du modèle\n",
    "#\n",
    "----"
   ],
   "metadata": {
    "collapsed": false
   }
  },
  {
   "cell_type": "code",
   "execution_count": 1,
   "metadata": {
    "collapsed": true
   },
   "outputs": [],
   "source": [
    "import pandas as pd"
   ]
  },
  {
   "cell_type": "code",
   "execution_count": 28,
   "outputs": [
    {
     "name": "stderr",
     "output_type": "stream",
     "text": [
      "WARNING: You are using pip version 22.0.4; however, version 22.1.2 is available.\n",
      "You should consider upgrading via the 'C:\\Users\\asus\\anaconda3\\python.exe -m pip install --upgrade pip' command.\n"
     ]
    },
    {
     "name": "stdout",
     "output_type": "stream",
     "text": [
      "Requirement already satisfied: python-mnist in c:\\users\\asus\\anaconda3\\lib\\site-packages (0.7)\n",
      "Note: you may need to restart the kernel to use updated packages.\n"
     ]
    }
   ],
   "source": [
    "pip install python-mnist"
   ],
   "metadata": {
    "collapsed": false,
    "pycharm": {
     "name": "#%%\n"
    }
   }
  },
  {
   "cell_type": "code",
   "execution_count": 2,
   "outputs": [],
   "source": [
    "from torchvision import datasets\n",
    "from torchvision.transforms import ToTensor\n",
    "import matplotlib.pyplot as plt\n",
    "\n",
    "\n",
    "training_data = datasets.MNIST(\n",
    "    root=\"data\",\n",
    "    train=True,\n",
    "    download=True,\n",
    "    transform=ToTensor()\n",
    ")\n",
    "\n",
    "test_data = datasets.MNIST(\n",
    "    root=\"data\",\n",
    "    train=False,\n",
    "    dowload=True,n\n",
    "    transform=ToTensor()\n",
    ")"
   ],
   "metadata": {
    "collapsed": false,
    "pycharm": {
     "name": "#%%\n"
    }
   }
  },
  {
   "cell_type": "code",
   "execution_count": 3,
   "outputs": [
    {
     "data": {
      "text/plain": "<Figure size 576x576 with 9 Axes>",
      "image/png": "[encoded data removed]"
     },
     "metadata": {
      "needs_background": "light"
     },
     "output_type": "display_data"
    }
   ],
   "source": [
    "figure = plt.figure(figsize=(8, 8))\n",
    "\n",
    "for i in range(1, 10):\n",
    "    figure.add_subplot(3, 3, i)\n",
    "    plt.axis(\"off\")\n",
    "    plt.imshow(training_data.data[i], cmap=\"gray\")\n",
    "plt.show()"
   ],
   "metadata": {
    "collapsed": false,
    "pycharm": {
     "name": "#%%\n"
    }
   }
  },
  {
   "cell_type": "code",
   "execution_count": 4,
   "outputs": [],
   "source": [
    "import numpy as np\n",
    "train_data = pd.DataFrame(training_data.data.reshape(60000,28*28).numpy())\n",
    "train_data = train_data[:20000]\n",
    "train_target = pd.DataFrame(training_data.targets.numpy())\n",
    "train_target =train_target[:20000]\n",
    "test_df = pd.DataFrame(test_data.data.reshape(10000,28*28).numpy())\n",
    "test_target = pd.DataFrame(test_data.targets.numpy())"
   ],
   "metadata": {
    "collapsed": false,
    "pycharm": {
     "name": "#%%\n"
    }
   }
  },
  {
   "cell_type": "code",
   "execution_count": 5,
   "outputs": [],
   "source": [
    "train_data = train_data.fillna(128)"
   ],
   "metadata": {
    "collapsed": false,
    "pycharm": {
     "name": "#%%\n"
    }
   }
  },
  {
   "cell_type": "markdown",
   "source": [
    "Pour l'efficacité de calcul et la fiabilité du modèle, nous devons appliquer la normalisation à nos données d'image, en limitant la plage de valeurs entre 0 et 1."
   ],
   "metadata": {
    "collapsed": false
   }
  },
  {
   "cell_type": "code",
   "execution_count": 6,
   "outputs": [],
   "source": [
    "# On normalise nos données\n",
    "train_data /= 255\n",
    "test_df /= 255"
   ],
   "metadata": {
    "collapsed": false,
    "pycharm": {
     "name": "#%%\n"
    }
   }
  },
  {
   "cell_type": "markdown",
   "source": [
    "On fait une recherche exhaustive (GRID search) pour plusieurs K différents, et pour chaque K le modèle subit une valisation croisé afin d'évaluer le modele et au finale le modèle avec le meileur nombre de voisin choisis (K) est retourné :"
   ],
   "metadata": {
    "collapsed": false
   }
  },
  {
   "cell_type": "code",
   "execution_count": 7,
   "outputs": [
    {
     "data": {
      "text/plain": "GridSearchCV(cv=5, estimator=KNeighborsClassifier(),\n             param_grid={'n_neighbors': [3, 5, 9, 11, 13, 15]},\n             scoring='accuracy')"
     },
     "execution_count": 7,
     "metadata": {},
     "output_type": "execute_result"
    }
   ],
   "source": [
    "from sklearn.model_selection import GridSearchCV\n",
    "from sklearn.neighbors import KNeighborsClassifier\n",
    "import numpy as np\n",
    "\n",
    "\n",
    "#crée un classifieur KNN\n",
    "knn = KNeighborsClassifier()\n",
    "#les parametres qu'on veut tester\n",
    "param_grid = {'n_neighbors': [3,5,9,11,13,15]}\n",
    "#utiliser gridsearch pour tester tout les valeurs de K , en évaluant l'accuracy avec des cross valisation\n",
    "knn_gscv = GridSearchCV(knn,  param_grid=param_grid,scoring='accuracy', cv=5)\n",
    "knn_gscv.fit(train_data, train_target[0].ravel())"
   ],
   "metadata": {
    "collapsed": false,
    "pycharm": {
     "name": "#%%\n"
    }
   }
  },
  {
   "cell_type": "code",
   "execution_count": 8,
   "outputs": [
    {
     "name": "stdout",
     "output_type": "stream",
     "text": [
      "Selon une recherche exaustive (grid search), le meilleur parametre K est : 5 avec une précision de : 0.9534499999999999\n"
     ]
    }
   ],
   "source": [
    "print(\"Selon une recherche exaustive (grid search), le meilleur parametre K est : \"+ str(knn_gscv.best_params_['n_neighbors']) +\" avec une précision de : \"+ str(knn_gscv.best_score_))"
   ],
   "metadata": {
    "collapsed": false,
    "pycharm": {
     "name": "#%%\n"
    }
   }
  },
  {
   "cell_type": "code",
   "execution_count": 10,
   "outputs": [],
   "source": [
    "from sklearn.metrics import confusion_matrix, ConfusionMatrixDisplay\n",
    "\n",
    "knn2 = KNeighborsClassifier(n_neighbors=knn_gscv.best_params_['n_neighbors'])\n",
    "knn2.fit(train_data, train_target[0].ravel())\n",
    "predictions = knn2.predict(test_df)\n"
   ],
   "metadata": {
    "collapsed": false,
    "pycharm": {
     "name": "#%%\n"
    }
   }
  },
  {
   "cell_type": "code",
   "execution_count": 11,
   "outputs": [
    {
     "data": {
      "text/plain": "<sklearn.metrics._plot.confusion_matrix.ConfusionMatrixDisplay at 0x16723157a00>"
     },
     "execution_count": 11,
     "metadata": {},
     "output_type": "execute_result"
    },
    {
     "data": {
      "text/plain": "<Figure size 432x288 with 2 Axes>",
      "image/png": "[encoded data removed]"
     },
     "metadata": {
      "needs_background": "light"
     },
     "output_type": "display_data"
    }
   ],
   "source": [
    "cmtx = confusion_matrix(test_target, predictions, labels=knn2.classes_)\n",
    "disp = ConfusionMatrixDisplay(confusion_matrix=cmtx, display_labels=knn2.classes_)\n",
    "disp.plot(cmap='Blues')\n"
   ],
   "metadata": {
    "collapsed": false,
    "pycharm": {
     "name": "#%%\n"
    }
   }
  },
  {
   "cell_type": "code",
   "execution_count": 12,
   "outputs": [
    {
     "data": {
      "text/plain": "0.9549"
     },
     "execution_count": 12,
     "metadata": {},
     "output_type": "execute_result"
    }
   ],
   "source": [
    "from sklearn.metrics import accuracy_score\n",
    "accuracy_score(test_target, predictions)"
   ],
   "metadata": {
    "collapsed": false,
    "pycharm": {
     "name": "#%%\n"
    }
   }
  },
  {
   "cell_type": "markdown",
   "source": [
    "# Conclusion\n",
    "Nous avons construit avec succès un classifieur KNN pour classer les chiffres manuscrits. Nous avons atteint une très bonne généralisation avec une précision de plus de 95 %."
   ],
   "metadata": {
    "collapsed": false,
    "pycharm": {
     "name": "#%% md\n"
    }
   }
  }
 ],
 "metadata": {
  "kernelspec": {
   "display_name": "Python 3",
   "language": "python",
   "name": "python3"
  },
  "language_info": {
   "codemirror_mode": {
    "name": "ipython",
    "version": 2
   },
   "file_extension": ".py",
   "mimetype": "text/x-python",
   "name": "python",
   "nbconvert_exporter": "python",
   "pygments_lexer": "ipython2",
   "version": "2.7.6"
  }
 },
 "nbformat": 4,
 "nbformat_minor": 0
}
